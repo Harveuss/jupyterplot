{
 "cells": [
  {
   "cell_type": "markdown",
   "metadata": {},
   "source": [
    "# jupyterplot\n",
    "\n",
    "> Create real-time plots in Jupyter notebooks."
   ]
  },
  {
   "cell_type": "markdown",
   "metadata": {},
   "source": [
    "## What is it?\n",
    "\n",
    "It generalises Andreas Madsen's excellent [python-lrcurve](https://github.com/AndreasMadsen/python-lrcurve) library for machine learning to produce visualisations for arbitrary functions in real-time.\n",
    "\n",
    "![single-plot](./images/plot_multiple_static.gif)"
   ]
  },
  {
   "cell_type": "markdown",
   "metadata": {},
   "source": [
    "## Install"
   ]
  },
  {
   "cell_type": "markdown",
   "metadata": {},
   "source": [
    "`pip install jupyterplot`"
   ]
  },
  {
   "cell_type": "markdown",
   "metadata": {},
   "source": [
    "## How to use\n",
    "### Single plot"
   ]
  },
  {
   "cell_type": "markdown",
   "metadata": {},
   "source": [
    "Creating a simple real-time plot in a Jupyter notebook is as easy as easy as the following snippet:"
   ]
  },
  {
   "cell_type": "code",
   "execution_count": null,
   "metadata": {},
   "outputs": [],
   "source": [
    "from jupyterplot import ProgressPlot\n",
    "import numpy as np\n",
    "\n",
    "pp = ProgressPlot()\n",
    "for i in range(1000):\n",
    "    pp.update(np.sin(i / 100))\n",
    "pp.finalize()"
   ]
  },
  {
   "cell_type": "markdown",
   "metadata": {},
   "source": [
    "![single-plot](./images/plot_single_dynamic.gif)"
   ]
  },
  {
   "cell_type": "markdown",
   "metadata": {},
   "source": [
    "**Note:** The `pp.finalize()` statement is necessary to make the plots persistent between notebook sessions."
   ]
  },
  {
   "cell_type": "markdown",
   "metadata": {},
   "source": [
    "### Custom range\n",
    "By default, the x and y ranges adapt to new data points. If the scale is known beforehand, it can be steadier to set it beforehand:"
   ]
  },
  {
   "cell_type": "code",
   "execution_count": null,
   "metadata": {},
   "outputs": [],
   "source": [
    "pp = ProgressPlot(x_lim=[0, 1000], y_lim=[-1.5, 1.5])\n",
    "for i in range(1000):\n",
    "    pp.update(np.sin(i / 100))\n",
    "pp.finalize()"
   ]
  },
  {
   "cell_type": "markdown",
   "metadata": {},
   "source": [
    "![single-plot](./images/plot_single_static.gif)"
   ]
  },
  {
   "cell_type": "markdown",
   "metadata": {},
   "source": [
    "### Multiple lines\n",
    "One can also plot several lines in parallel by specifying the line names in the constructor and passing all values in a list."
   ]
  },
  {
   "cell_type": "code",
   "execution_count": null,
   "metadata": {},
   "outputs": [],
   "source": [
    "pp = ProgressPlot(line_names=[\"lin\", \"log\", \"cos\", \"sin\"],\n",
    "                  x_lim=[0, 1000],\n",
    "                  y_lim=[-1, 4])\n",
    "\n",
    "for i in range(1000):\n",
    "    pp.update([[i / 250, np.log10(i + 1), np.cos(i / 100), np.sin(i / 100)]])\n",
    "pp.finalize()"
   ]
  },
  {
   "cell_type": "markdown",
   "metadata": {},
   "source": [
    "![single-plot](./images/plot_multiple_static.gif)"
   ]
  },
  {
   "cell_type": "markdown",
   "metadata": {},
   "source": [
    "**Note:** The data is fed to `pp.update()` as a list of lists, where each sublist corresponds to the curves that are generated in each subplot."
   ]
  },
  {
   "cell_type": "markdown",
   "metadata": {},
   "source": [
    "### Multiple plots"
   ]
  },
  {
   "cell_type": "code",
   "execution_count": null,
   "metadata": {},
   "outputs": [],
   "source": [
    "pp = ProgressPlot(plot_names=[\"cos\", \"sin\"],\n",
    "                  line_names=[\"data\", \"delayed-data\"],\n",
    "                  x_lim=[0, 1000],\n",
    "                  y_lim=[-1, 1])\n",
    "\n",
    "for i in range(1000):\n",
    "    pp.update([[np.cos(i / 100), np.cos((i + 20) / 100)],\n",
    "               [np.sin(i / 100), np.sin((i + 20) / 100)]])\n",
    "pp.finalize()"
   ]
  },
  {
   "cell_type": "markdown",
   "metadata": {},
   "source": [
    "![single-plot](./images/plot_multiple_plots_static.gif)"
   ]
  },
  {
   "cell_type": "markdown",
   "metadata": {},
   "source": [
    "### Custom x-values\n",
    "If the x values should not be incremented by 1 at every update one can set the `x_iterator=False`. This requires passing two values to the `update(x, y)`, where `x` is an `int` or `float` and `y` follows the same format as in the previous examples."
   ]
  },
  {
   "cell_type": "code",
   "execution_count": null,
   "metadata": {},
   "outputs": [],
   "source": [
    "pp = ProgressPlot(x_iterator=False, x_label=\"custom-x\", x_lim=[0, 10000], y_lim=[0, 10])\n",
    "for i in range(1000):\n",
    "    pp.update(10 * i, i / 100)\n",
    "pp.finalize()"
   ]
  },
  {
   "cell_type": "markdown",
   "metadata": {},
   "source": [
    "![single-plot](./images/plot_single_static_custom.gif)"
   ]
  },
  {
   "cell_type": "markdown",
   "metadata": {},
   "source": [
    "### Decoupled y-limits\n",
    "If each subplot should have different y-limits then the y-limits can be passed as a list containing the the limits for each subplot."
   ]
  },
  {
   "cell_type": "code",
   "execution_count": null,
   "metadata": {},
   "outputs": [],
   "source": [
    "pp = ProgressPlot(plot_names=['plot 1', 'plot 2'], x_lim=[0, 1000], y_lim=[[0, 10],[0, 100]])\n",
    "for i in range(1000):\n",
    "    pp.update([[(i/100)], [(i/100)**2]])"
   ]
  },
  {
   "cell_type": "markdown",
   "metadata": {},
   "source": [
    "![single-plot](./images/plot_separate_ylim.gif)"
   ]
  },
  {
   "cell_type": "markdown",
   "metadata": {},
   "source": [
    "### Input format\n",
    "#### Single plot, single line\n",
    "If the progress plot consists of a single plot with a single line one can pass the y-updates as `int` or `float`.\n",
    "#### Multiple plots, multiple lines\n",
    "If multiple plots or lines are used, the y-updates can either be lists or dicts:\n",
    "```python\n",
    "y_update_list = [[y_plot_1_line_1, y_plot_1_line_2],\n",
    "                 [y_plot_2_line_1, y_plot_2_line_2]]\n",
    "\n",
    "y_update_dict = {'plot_name_1': {'line_name_1': y_plot_1_line_1,\n",
    "                                 'line_name_2': y_plot_1_line_2},\n",
    "                 'plot_name_2': {'line_name_1': y_plot_2_line_1,\n",
    "                                 'line_name_2': y_plot_2_line_2}}\n",
    "``` "
   ]
  },
  {
   "cell_type": "markdown",
   "metadata": {},
   "source": [
    "## Limitations\n",
    "\n",
    "* Only one `ProgressPlot()` object can be used at a time. \n",
    "* Each subplot must have the same number of lines.\n",
    "* The same color cycle for each subplot is used."
   ]
  },
  {
   "cell_type": "code",
   "execution_count": null,
   "metadata": {},
   "outputs": [],
   "source": []
  }
 ],
 "metadata": {
  "kernelspec": {
   "display_name": "Python 3",
   "language": "python",
   "name": "python3"
  }
 },
 "nbformat": 4,
 "nbformat_minor": 4
}
