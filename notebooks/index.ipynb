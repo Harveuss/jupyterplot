{
 "cells": [
  {
   "cell_type": "markdown",
   "metadata": {},
   "source": [
    "# jupyter_plot\n",
    "\n",
    "> Create real-time plots in Jupyter notebooks."
   ]
  },
  {
   "cell_type": "markdown",
   "metadata": {},
   "source": [
    "## What is it?\n",
    "\n",
    "This is a library to generate real-time plots in Jupyter notebooks with a tqdm-like interface. It is largely based on the [python-lrcurve](https://github.com/AndreasMadsen/python-lrcurve) by Andreas Madsen.\n",
    "\n",
    "![single-plot](./images/plot_multiple_static.gif)"
   ]
  },
  {
   "cell_type": "markdown",
   "metadata": {},
   "source": [
    "## Install"
   ]
  },
  {
   "cell_type": "markdown",
   "metadata": {},
   "source": [
    "`pip install jupyter_plot`"
   ]
  },
  {
   "cell_type": "markdown",
   "metadata": {},
   "source": [
    "## How to use\n",
    "### Single plot"
   ]
  },
  {
   "cell_type": "markdown",
   "metadata": {},
   "source": [
    "Creating a simple real-time plot in a Jupyter notebook is as easy as easy as the following line:"
   ]
  },
  {
   "cell_type": "code",
   "execution_count": null,
   "metadata": {},
   "outputs": [],
   "source": [
    "from jupyter_plot import ProgressPlot\n",
    "import numpy as np\n",
    "\n",
    "pp = ProgressPlot()\n",
    "for i in range(1000):\n",
    "    pp.update(np.sin(i/100))\n",
    "pp.finalize()"
   ]
  },
  {
   "cell_type": "markdown",
   "metadata": {},
   "source": [
    "![single-plot](./images/plot_single_dynamic.gif)"
   ]
  },
  {
   "cell_type": "markdown",
   "metadata": {},
   "source": [
    "**Note:** The `pp.finalize()` statement is necessary to make the plots persistent between notebook sessions."
   ]
  },
  {
   "cell_type": "markdown",
   "metadata": {},
   "source": [
    "### Custom range\n",
    "By default, the x and y range adapt to new data points. If the scale is known beforehand, it might steadier to set it beforehand:"
   ]
  },
  {
   "cell_type": "code",
   "execution_count": null,
   "metadata": {},
   "outputs": [],
   "source": [
    "pp = ProgressPlot(x_lim=[0,1000],y_lim=[-1.5,1.5])\n",
    "for i in range(1000):\n",
    "    pp.update(np.sin(i/100))\n",
    "pp.finalize()"
   ]
  },
  {
   "cell_type": "markdown",
   "metadata": {},
   "source": [
    "![single-plot](./images/plot_single_static.gif)"
   ]
  },
  {
   "cell_type": "markdown",
   "metadata": {},
   "source": [
    "### Multiple lines\n",
    "One can also plot several lines in parallel by specifying the line names in the constructor and passing all values in a list."
   ]
  },
  {
   "cell_type": "code",
   "execution_count": null,
   "metadata": {},
   "outputs": [],
   "source": [
    "pp = ProgressPlot(line_names=['lin', 'log', 'cos', 'sin'], x_lim=[0, 1000], y_lim=[-1,4])\n",
    "for i in range(1000):\n",
    "    pp.update([[i/250, np.log10(i+1), np.cos(i/100), np.sin(i/100)]])\n",
    "pp.finalize()"
   ]
  },
  {
   "cell_type": "markdown",
   "metadata": {},
   "source": [
    "![single-plot](./images/plot_multiple_static.gif)"
   ]
  },
  {
   "cell_type": "markdown",
   "metadata": {},
   "source": [
    "**Note:** The data is fed with two brackets `[[y1, y2, y3]]`. The first list corresponds the plots, wheras the second list to each line of each plot as we will also see in the next example."
   ]
  },
  {
   "cell_type": "markdown",
   "metadata": {},
   "source": [
    "### Multiple plots"
   ]
  },
  {
   "cell_type": "code",
   "execution_count": null,
   "metadata": {},
   "outputs": [],
   "source": [
    "pp = ProgressPlot(plot_names=['cos', 'sin'], line_names=['data', 'delayed-data'], x_lim=[0, 1000], y_lim=[-1,1])\n",
    "for i in range(1000):\n",
    "    pp.update([[np.cos(i/100), np.cos((i+20)/100)], [np.sin(i/100), np.sin((i+20)/100)]])\n",
    "pp.finalize()"
   ]
  },
  {
   "cell_type": "markdown",
   "metadata": {},
   "source": [
    "![single-plot](./images/plot_multiple_plots_static.gif)"
   ]
  },
  {
   "cell_type": "markdown",
   "metadata": {},
   "source": [
    "### Custom x-values\n",
    "Finally, if the x values should not be incremented by 1 at every update one can set the `x_iterator=False`. This requires passing two values to the `update(x, y)`, where `x` is an `int`/`float` and `y` follows the same format as in the previous examples."
   ]
  },
  {
   "cell_type": "code",
   "execution_count": null,
   "metadata": {},
   "outputs": [],
   "source": [
    "pp = ProgressPlot(x_iterator=False, x_label='custom-x', x_lim=[0,10000], y_lim=[0, 10])\n",
    "for i in range(1000):\n",
    "    pp.update(10*i, i/100)\n",
    "pp.finalize()"
   ]
  },
  {
   "cell_type": "markdown",
   "metadata": {},
   "source": [
    "![single-plot](./images/plot_single_static_custom.gif)"
   ]
  },
  {
   "cell_type": "markdown",
   "metadata": {},
   "source": [
    "## Limitations\n",
    "\n",
    "* Only one `ProgressPlot()` object can be used at a time. \n",
    "* Each subplot must have the same number of lines and same line colors."
   ]
  },
  {
   "cell_type": "code",
   "execution_count": null,
   "metadata": {},
   "outputs": [],
   "source": []
  }
 ],
 "metadata": {
  "kernelspec": {
   "display_name": "Python 3",
   "language": "python",
   "name": "python3"
  }
 },
 "nbformat": 4,
 "nbformat_minor": 4
}
